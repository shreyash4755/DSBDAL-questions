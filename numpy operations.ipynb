{
 "cells": [
  {
   "cell_type": "code",
   "execution_count": 1,
   "id": "59378e78",
   "metadata": {},
   "outputs": [],
   "source": [
    "import numpy as np   \n",
    "scores = np.array([[85, 90, 78, 92, 88],\n",
    "                   [72, 75, 80, 68, 74],\n",
    "                   [95, 88, 92, 96, 90],\n",
    "                   [60, 65, 70, 58, 62],\n",
    "                   [88, 84, 86, 89, 87]])     "
   ]
  },
  {
   "cell_type": "code",
   "execution_count": 2,
   "id": "3792b1c6",
   "metadata": {},
   "outputs": [
    {
     "data": {
      "text/plain": [
       "array([95, 88, 92, 96, 90])"
      ]
     },
     "execution_count": 2,
     "metadata": {},
     "output_type": "execute_result"
    }
   ],
   "source": [
    "scores[2]"
   ]
  },
  {
   "cell_type": "code",
   "execution_count": 3,
   "id": "761bf6bd",
   "metadata": {},
   "outputs": [
    {
     "data": {
      "text/plain": [
       "array([90, 75, 88, 65, 84])"
      ]
     },
     "execution_count": 3,
     "metadata": {},
     "output_type": "execute_result"
    }
   ],
   "source": [
    "scores[:,1]"
   ]
  },
  {
   "cell_type": "code",
   "execution_count": 4,
   "id": "7a81c96d",
   "metadata": {},
   "outputs": [
    {
     "data": {
      "text/plain": [
       "array([[85, 90],\n",
       "       [72, 75],\n",
       "       [95, 88]])"
      ]
     },
     "execution_count": 4,
     "metadata": {},
     "output_type": "execute_result"
    }
   ],
   "source": [
    "scores[:3,:2]"
   ]
  },
  {
   "cell_type": "code",
   "execution_count": 5,
   "id": "dc0fe1be",
   "metadata": {},
   "outputs": [
    {
     "data": {
      "text/plain": [
       "array([[96, 90],\n",
       "       [58, 62],\n",
       "       [89, 87]])"
      ]
     },
     "execution_count": 5,
     "metadata": {},
     "output_type": "execute_result"
    }
   ],
   "source": [
    "scores[2:,3:]"
   ]
  },
  {
   "cell_type": "code",
   "execution_count": 6,
   "id": "16f53632",
   "metadata": {},
   "outputs": [
    {
     "data": {
      "text/plain": [
       "array([[ 90,  95,  83,  97,  93],\n",
       "       [ 77,  80,  85,  73,  79],\n",
       "       [100,  93,  97, 101,  95],\n",
       "       [ 65,  70,  75,  63,  67],\n",
       "       [ 93,  89,  91,  94,  92]])"
      ]
     },
     "execution_count": 6,
     "metadata": {},
     "output_type": "execute_result"
    }
   ],
   "source": [
    "scores + 5"
   ]
  },
  {
   "cell_type": "code",
   "execution_count": 7,
   "id": "0e5454e7",
   "metadata": {},
   "outputs": [
    {
     "data": {
      "text/plain": [
       "array([82, 58, 86, 48, 79])"
      ]
     },
     "execution_count": 7,
     "metadata": {},
     "output_type": "execute_result"
    }
   ],
   "source": [
    "scores[:,3] - 10"
   ]
  },
  {
   "cell_type": "code",
   "execution_count": 8,
   "id": "c2e87e0b",
   "metadata": {},
   "outputs": [
    {
     "data": {
      "text/plain": [
       "array([86.6, 73.8, 92.2, 63. , 86.8])"
      ]
     },
     "execution_count": 8,
     "metadata": {},
     "output_type": "execute_result"
    }
   ],
   "source": [
    "scores.sum(axis=1) / 5"
   ]
  },
  {
   "cell_type": "code",
   "execution_count": 9,
   "id": "8a89b6ac",
   "metadata": {},
   "outputs": [
    {
     "data": {
      "text/plain": [
       "array([86.6, 73.8, 92.2, 63. , 86.8])"
      ]
     },
     "execution_count": 9,
     "metadata": {},
     "output_type": "execute_result"
    }
   ],
   "source": [
    "scores.mean(axis=1)"
   ]
  },
  {
   "cell_type": "code",
   "execution_count": 10,
   "id": "469479b1",
   "metadata": {},
   "outputs": [
    {
     "data": {
      "text/plain": [
       "array([433, 369, 461, 315, 434])"
      ]
     },
     "execution_count": 10,
     "metadata": {},
     "output_type": "execute_result"
    }
   ],
   "source": [
    "scores.sum(axis=1)"
   ]
  },
  {
   "cell_type": "code",
   "execution_count": 11,
   "id": "f1c29d8d",
   "metadata": {},
   "outputs": [
    {
     "data": {
      "text/plain": [
       "96"
      ]
     },
     "execution_count": 11,
     "metadata": {},
     "output_type": "execute_result"
    }
   ],
   "source": [
    "np.max(scores)"
   ]
  },
  {
   "cell_type": "code",
   "execution_count": 12,
   "id": "20823431",
   "metadata": {},
   "outputs": [
    {
     "data": {
      "text/plain": [
       "array([80. , 80.4, 81.2, 80.6, 80.2])"
      ]
     },
     "execution_count": 12,
     "metadata": {},
     "output_type": "execute_result"
    }
   ],
   "source": [
    "scores.mean(axis=0)"
   ]
  },
  {
   "cell_type": "code",
   "execution_count": 13,
   "id": "b89a33c1",
   "metadata": {},
   "outputs": [
    {
     "ename": "NameError",
     "evalue": "name 'average_scores' is not defined",
     "output_type": "error",
     "traceback": [
      "\u001b[1;31m---------------------------------------------------------------------------\u001b[0m",
      "\u001b[1;31mNameError\u001b[0m                                 Traceback (most recent call last)",
      "Cell \u001b[1;32mIn[13], line 1\u001b[0m\n\u001b[1;32m----> 1\u001b[0m np\u001b[38;5;241m.\u001b[39margmin(average_scores)\n",
      "\u001b[1;31mNameError\u001b[0m: name 'average_scores' is not defined"
     ]
    }
   ],
   "source": [
    "np.argmin(average_scores)"
   ]
  },
  {
   "cell_type": "code",
   "execution_count": 14,
   "id": "110c4244",
   "metadata": {},
   "outputs": [
    {
     "data": {
      "text/plain": [
       "18"
      ]
     },
     "execution_count": 14,
     "metadata": {},
     "output_type": "execute_result"
    }
   ],
   "source": [
    "np.argmin(scores)"
   ]
  },
  {
   "cell_type": "code",
   "execution_count": null,
   "id": "4462132b",
   "metadata": {},
   "outputs": [],
   "source": []
  }
 ],
 "metadata": {
  "kernelspec": {
   "display_name": "Python 3 (ipykernel)",
   "language": "python",
   "name": "python3"
  },
  "language_info": {
   "codemirror_mode": {
    "name": "ipython",
    "version": 3
   },
   "file_extension": ".py",
   "mimetype": "text/x-python",
   "name": "python",
   "nbconvert_exporter": "python",
   "pygments_lexer": "ipython3",
   "version": "3.11.4"
  }
 },
 "nbformat": 4,
 "nbformat_minor": 5
}
