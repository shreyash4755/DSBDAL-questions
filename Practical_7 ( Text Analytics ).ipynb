{
 "cells": [
  {
   "cell_type": "code",
   "execution_count": 1,
   "id": "85cf9f8a",
   "metadata": {},
   "outputs": [
    {
     "name": "stderr",
     "output_type": "stream",
     "text": [
      "[nltk_data] Downloading package punkt to\n",
      "[nltk_data]     C:\\Users\\DSBDALAB24\\AppData\\Roaming\\nltk_data...\n",
      "[nltk_data]   Unzipping tokenizers\\punkt.zip.\n",
      "[nltk_data] Downloading package stopwords to\n",
      "[nltk_data]     C:\\Users\\DSBDALAB24\\AppData\\Roaming\\nltk_data...\n",
      "[nltk_data]   Unzipping corpora\\stopwords.zip.\n",
      "[nltk_data] Downloading package wordnet to\n",
      "[nltk_data]     C:\\Users\\DSBDALAB24\\AppData\\Roaming\\nltk_data...\n",
      "[nltk_data] Downloading package averaged_perceptron_tagger to\n",
      "[nltk_data]     C:\\Users\\DSBDALAB24\\AppData\\Roaming\\nltk_data...\n",
      "[nltk_data]   Unzipping taggers\\averaged_perceptron_tagger.zip.\n"
     ]
    },
    {
     "data": {
      "text/plain": [
       "True"
      ]
     },
     "execution_count": 1,
     "metadata": {},
     "output_type": "execute_result"
    }
   ],
   "source": [
    "import nltk\n",
    "\n",
    "# Download necessary datasets\n",
    "nltk.download('punkt')\n",
    "nltk.download('stopwords')\n",
    "nltk.download('wordnet')\n",
    "nltk.download('averaged_perceptron_tagger')"
   ]
  },
  {
   "cell_type": "code",
   "execution_count": 2,
   "id": "1e14f7e1",
   "metadata": {},
   "outputs": [],
   "source": [
    "# Step 2: Initialize the text\n",
    "text = \"Tokenization is the first step in text analytics. The process of breaking down a text paragraph into smaller chunks such as words or sentences is called Tokenization.\""
   ]
  },
  {
   "cell_type": "code",
   "execution_count": 3,
   "id": "2d687021",
   "metadata": {},
   "outputs": [
    {
     "name": "stderr",
     "output_type": "stream",
     "text": [
      "[nltk_data] Downloading package punkt_tab to\n",
      "[nltk_data]     C:\\Users\\DSBDALAB24\\AppData\\Roaming\\nltk_data...\n",
      "[nltk_data]   Unzipping tokenizers\\punkt_tab.zip.\n"
     ]
    },
    {
     "data": {
      "text/plain": [
       "True"
      ]
     },
     "execution_count": 3,
     "metadata": {},
     "output_type": "execute_result"
    }
   ],
   "source": [
    "nltk.download('punkt_tab')"
   ]
  },
  {
   "cell_type": "code",
   "execution_count": 4,
   "id": "a727d3ce",
   "metadata": {},
   "outputs": [
    {
     "name": "stdout",
     "output_type": "stream",
     "text": [
      "['Tokenization is the first step in text analytics.', 'The process of breaking down a text paragraph into smaller chunks such as words or sentences is called Tokenization.']\n"
     ]
    }
   ],
   "source": [
    "# Step 3: Perform Tokenization\n",
    "from nltk.tokenize import sent_tokenize\n",
    "tokenized_text= sent_tokenize(text)\n",
    "print(tokenized_text)"
   ]
  },
  {
   "cell_type": "code",
   "execution_count": 5,
   "id": "d454b751",
   "metadata": {},
   "outputs": [
    {
     "name": "stdout",
     "output_type": "stream",
     "text": [
      "['Tokenization', 'is', 'the', 'first', 'step', 'in', 'text', 'analytics', '.', 'The', 'process', 'of', 'breaking', 'down', 'a', 'text', 'paragraph', 'into', 'smaller', 'chunks', 'such', 'as', 'words', 'or', 'sentences', 'is', 'called', 'Tokenization', '.']\n"
     ]
    }
   ],
   "source": [
    "from nltk.tokenize import word_tokenize\n",
    "tokenized_word=word_tokenize(text)\n",
    "print(tokenized_word)"
   ]
  },
  {
   "cell_type": "code",
   "execution_count": 6,
   "id": "2d6ed93c",
   "metadata": {},
   "outputs": [
    {
     "name": "stdout",
     "output_type": "stream",
     "text": [
      "{'themselves', 'again', 're', 'an', \"she's\", 'our', 'most', 'such', 'having', 'where', \"we've\", 't', 'until', 'as', 'too', 'each', 'doesn', 'and', 'then', \"we'll\", 'now', 'couldn', 'or', \"that'll\", 'whom', \"wouldn't\", 'between', \"doesn't\", 'both', 'those', 'from', 'for', 'the', 'were', 'who', 'aren', \"he'd\", 'her', 'wasn', \"hasn't\", \"don't\", \"didn't\", \"isn't\", 'isn', 'she', \"she'll\", 'here', \"you'd\", 'no', \"haven't\", 'do', 'than', 'can', 'y', 'but', 'had', 'o', 'that', 'hadn', 've', 'wouldn', 'own', 'with', 'very', 'at', 'it', \"i'm\", 'by', 'ours', 'which', 'out', 'been', \"needn't\", 'are', 'you', 'your', 'more', \"weren't\", 'needn', 'not', 'a', 'through', \"you've\", 'hers', 'being', \"you're\", 'of', 'on', \"hadn't\", 'himself', 'have', 'while', 'after', 'why', 'mustn', 'myself', 'll', \"it's\", 'off', \"i've\", 'herself', \"he'll\", \"i'll\", 'against', 'yourselves', 'some', 'has', \"we'd\", 'about', 'm', 's', 'into', 'won', 'over', 'so', 'we', 'ourselves', 'its', 'when', \"it'll\", \"they're\", 'their', 'all', 'haven', \"wasn't\", \"shan't\", \"you'll\", 'under', 'hasn', 'few', 'mightn', \"we're\", 'how', 'does', 'any', 'other', 'was', 'weren', 'd', 'to', 'don', \"shouldn't\", \"it'd\", 'my', 'ain', \"she'd\", 'shan', 'if', 'further', 'shouldn', 'itself', 'should', 'is', \"they've\", 'did', 'in', 'them', 'these', \"i'd\", \"they'll\", 'yours', 'didn', 'above', 'me', 'am', 'before', 'up', 'yourself', 'what', \"aren't\", \"he's\", 'during', 'will', \"mightn't\", 'ma', \"should've\", 'they', 'theirs', \"mustn't\", 'him', 'because', 'same', 'only', 'there', \"they'd\", \"couldn't\", 'down', 'just', 'this', 'his', \"won't\", 'below', 'nor', 'be', 'he', 'once', 'doing', 'i'}\n"
     ]
    }
   ],
   "source": [
    "# Step 4: Removing Punctuations and Stop Word\n",
    "from nltk.corpus import stopwords\n",
    "stop_words=set(stopwords.words(\"english\"))\n",
    "print(stop_words)"
   ]
  },
  {
   "cell_type": "code",
   "execution_count": 7,
   "id": "e09abe03",
   "metadata": {},
   "outputs": [
    {
     "name": "stdout",
     "output_type": "stream",
     "text": [
      "Tokenized Sentence: ['we', 'remove', 'all', 'characters', 'that', 'are', 'not', 'letters', 'leaving', 'only', 'words', 'and', 'spaces']\n",
      "Filtered Sentence: ['remove', 'characters', 'letters', 'leaving', 'words', 'spaces']\n"
     ]
    }
   ],
   "source": [
    "import re\n",
    "from nltk.tokenize import word_tokenize\n",
    "from nltk.corpus import stopwords\n",
    "text = \"We remove all characters that are not letters, leaving only words and spaces.\"\n",
    "text = re.sub('[^a-zA-Z]', ' ', text)\n",
    "tokens = word_tokenize(text.lower())\n",
    "stop_words = set(stopwords.words('english'))\n",
    "filtered_text = [w for w in tokens if w not in stop_words]\n",
    "\n",
    "# Print the tokenized and filtered sentences\n",
    "print(\"Tokenized Sentence:\", tokens)\n",
    "print(\"Filtered Sentence:\", filtered_text)"
   ]
  },
  {
   "cell_type": "code",
   "execution_count": 8,
   "id": "afd5bb35",
   "metadata": {},
   "outputs": [
    {
     "name": "stdout",
     "output_type": "stream",
     "text": [
      "wait\n"
     ]
    }
   ],
   "source": [
    "# Step 5 : Perform Stemming\n",
    "from nltk.stem import PorterStemmer\n",
    "e_words= [\"wait\", \"waiting\", \"waited\",\"waits\"]\n",
    "ps =PorterStemmer()\n",
    "for w in e_words:\n",
    "    rootWord=ps.stem(w)\n",
    "print(rootWord)"
   ]
  },
  {
   "cell_type": "code",
   "execution_count": 9,
   "id": "2039d51c",
   "metadata": {},
   "outputs": [
    {
     "name": "stdout",
     "output_type": "stream",
     "text": [
      "Lemma for studies is study\n",
      "Lemma for studying is studying\n",
      "Lemma for cries is cry\n",
      "Lemma for cry is cry\n"
     ]
    }
   ],
   "source": [
    "# Step 6: Perform Lemmatization\n",
    "from nltk.stem import WordNetLemmatizer\n",
    "from nltk.tokenize import word_tokenize\n",
    "\n",
    "# Initialize WordNet Lemmatizer\n",
    "wordnet_lemmatizer = WordNetLemmatizer()\n",
    "\n",
    "# Example sentence for lemmatization\n",
    "text = \"studies studying cries cry\"\n",
    "tokenization = word_tokenize(text)\n",
    "\n",
    "# Lemmatizing each token in the sentence\n",
    "for w in tokenization:\n",
    "    print(f\"Lemma for {w} is {wordnet_lemmatizer.lemmatize(w)}\")"
   ]
  },
  {
   "cell_type": "code",
   "execution_count": 10,
   "id": "bb3f848d",
   "metadata": {},
   "outputs": [
    {
     "name": "stdout",
     "output_type": "stream",
     "text": [
      "[('The', 'DT')]\n",
      "[('pink', 'NN')]\n",
      "[('sweater', 'NN')]\n",
      "[('fit', 'NN')]\n",
      "[('her', 'PRP$')]\n",
      "[('perfectly', 'RB')]\n"
     ]
    }
   ],
   "source": [
    "# Step 7: POS Tagging\n",
    "data = \"The pink sweater fit her perfectly\"\n",
    "words = word_tokenize(data)\n",
    "\n",
    "for word in words:\n",
    "    print(nltk.pos_tag([word]))"
   ]
  },
  {
   "cell_type": "code",
   "execution_count": null,
   "id": "c780ea3b",
   "metadata": {},
   "outputs": [],
   "source": []
  }
 ],
 "metadata": {
  "kernelspec": {
   "display_name": "Python 3 (ipykernel)",
   "language": "python",
   "name": "python3"
  },
  "language_info": {
   "codemirror_mode": {
    "name": "ipython",
    "version": 3
   },
   "file_extension": ".py",
   "mimetype": "text/x-python",
   "name": "python",
   "nbconvert_exporter": "python",
   "pygments_lexer": "ipython3",
   "version": "3.11.5"
  }
 },
 "nbformat": 4,
 "nbformat_minor": 5
}
